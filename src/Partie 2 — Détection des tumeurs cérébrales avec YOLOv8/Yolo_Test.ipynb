{
 "cells": [
  {
   "cell_type": "code",
   "execution_count": 15,
   "id": "8f644dd9",
   "metadata": {},
   "outputs": [
    {
     "name": "stdout",
     "output_type": "stream",
     "text": [
      "\n",
      "image 1/1 B:\\Deep Learning\\DeepMediScan\\data\\Data_Brain\\Val\\Meningioma\\images\\m (12).jpg: 640x640 1 Meningioma, 48.3ms\n",
      "Speed: 5.6ms preprocess, 48.3ms inference, 4.8ms postprocess per image at shape (1, 3, 640, 640)\n",
      "Boxes: tensor([[264.3465, 196.3539, 385.5772, 308.2778]], device='cuda:0')\n",
      "Scores: tensor([0.9240], device='cuda:0')\n",
      "Class IDs: tensor([1.], device='cuda:0')\n"
     ]
    }
   ],
   "source": [
    "from ultralytics import YOLO\n",
    "import cv2\n",
    "from matplotlib import pyplot as plt\n",
    "\n",
    "model = YOLO(\"../../models/yolov8_brain_tumor2/weights/best.pt\")  \n",
    "\n",
    "img_path = \"B:\\Deep Learning\\DeepMediScan\\data\\Data_Brain\\Val\\Meningioma\\images\\m (12).jpg\"\n",
    "\n",
    "results = model.predict(source=img_path, conf=0.25, iou=0.45)\n",
    "\n",
    "\n",
    "for result in results:\n",
    "    result.show() \n",
    "\n",
    "    boxes = result.boxes.xyxy  \n",
    "    scores = result.boxes.conf \n",
    "    class_ids = result.boxes.cls  \n",
    "\n",
    "    print(\"Boxes:\", boxes)\n",
    "    print(\"Scores:\", scores)\n",
    "    print(\"Class IDs:\", class_ids)\n"
   ]
  }
 ],
 "metadata": {
  "kernelspec": {
   "display_name": "Python 3",
   "language": "python",
   "name": "python3"
  },
  "language_info": {
   "codemirror_mode": {
    "name": "ipython",
    "version": 3
   },
   "file_extension": ".py",
   "mimetype": "text/x-python",
   "name": "python",
   "nbconvert_exporter": "python",
   "pygments_lexer": "ipython3",
   "version": "3.11.0"
  }
 },
 "nbformat": 4,
 "nbformat_minor": 5
}
