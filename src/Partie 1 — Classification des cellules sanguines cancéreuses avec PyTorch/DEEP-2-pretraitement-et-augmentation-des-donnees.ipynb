{
 "cells": [
  {
   "cell_type": "markdown",
   "id": "b49f9061",
   "metadata": {},
   "source": [
    "# Prétraitement et augmentation des données"
   ]
  },
  {
   "cell_type": "markdown",
   "id": "4e5b4075",
   "metadata": {},
   "source": [
    "### Division en ensembles Train/Validation/Test"
   ]
  },
  {
   "cell_type": "code",
   "execution_count": 3,
   "id": "b30a9e7b",
   "metadata": {},
   "outputs": [],
   "source": [
    "import joblib\n",
    "import numpy as np\n",
    "from PIL import Image\n",
    "\n",
    "images, labels = joblib.load(\"../data/processed_data.pkl\")"
   ]
  },
  {
   "cell_type": "markdown",
   "id": "b1502f2b",
   "metadata": {},
   "source": [
    "### Encodage des étiquettes catégorielles avec LabelEncoder"
   ]
  },
  {
   "cell_type": "code",
   "execution_count": null,
   "id": "1c4d613b",
   "metadata": {},
   "outputs": [],
   "source": [
    "import os\n",
    "import random\n",
    "\n",
    "train_split = 0.7\n",
    "val_split = 0.15\n",
    "test_split = 0.15\n",
    "\n",
    "for subset in [\"train\", \"val\", \"test\"]:\n",
    "    os.makedirs(os.path.join(\"../data/data_splite\", subset), exist_ok=True)\n",
    "\n",
    "classes = np.unique(labels)\n",
    "for cls in classes:\n",
    "    for subset in [\"train\", \"val\", \"test\"]:\n",
    "        os.makedirs(os.path.join(\"../data/data_splite\", subset, cls), exist_ok=True)\n",
    "\n",
    "data = list(range(len(images)))\n",
    "random.shuffle(data)\n",
    "\n",
    "n_total = len(data)\n",
    "n_train = int(0.7 * n_total)\n",
    "n_val = int(0.15 * n_total)\n",
    "n_test = n_total - n_train - n_val\n",
    "\n",
    "splits = {\n",
    "    \"train\": data[:n_train],\n",
    "    \"val\": data[n_train:n_train + n_val],\n",
    "    \"test\": data[n_train + n_val:]\n",
    "}\n",
    "\n",
    "image_count = {\"train\": 0, \"val\": 0, \"test\": 0}\n",
    "\n",
    "for subset_name, subset_indices in splits.items():\n",
    "    for idx_in_subset, idx in enumerate(subset_indices):\n",
    "        img_array = images[idx]\n",
    "        label = labels[idx]\n",
    "        img = Image.fromarray(img_array)\n",
    "        save_path = os.path.join(\"../data/data_splite\", subset_name, label)\n",
    "        img.save(os.path.join(save_path, f\"{idx_in_subset}.png\"))\n",
    "        image_count[subset_name] += 1\n",
    "        \n",
    "for subset_name, count in image_count.items():\n",
    "    print(f\"{subset_name}: {count} images\")"
   ]
  },
  {
   "cell_type": "markdown",
   "id": "b3ed0a84",
   "metadata": {},
   "source": [
    "### Nombre d’images par classe dans le dossier d’entraînement"
   ]
  },
  {
   "cell_type": "code",
   "execution_count": null,
   "id": "b7f58ffb",
   "metadata": {},
   "outputs": [
    {
     "name": "stdout",
     "output_type": "stream",
     "text": [
      "Benign : 358\n",
      "early Pre-B : 702\n",
      "Pre-B : 678\n",
      "Pro-B : 531\n",
      "702\n"
     ]
    }
   ],
   "source": [
    "train_path = \"../data/data_splite/train\"\n",
    "target_count = 0\n",
    "for cls in os.listdir(train_path):\n",
    "    path = os.path.join(train_path, cls)\n",
    "    if os.path.isdir(path):\n",
    "        count = len(os.listdir(path))\n",
    "        print(f\"{cls} : {count}\")\n",
    "    if count > target_count:\n",
    "        target_count = count\n",
    "print(target_count)"
   ]
  },
  {
   "cell_type": "markdown",
   "id": "e2489ea7",
   "metadata": {},
   "source": [
    "### Augmentation et équilibrage des données d’entraînement par transformations d’images"
   ]
  },
  {
   "cell_type": "code",
   "execution_count": null,
   "id": "c2fd53d6",
   "metadata": {},
   "outputs": [
    {
     "name": "stdout",
     "output_type": "stream",
     "text": [
      "Nombre d'images d'entraînement : 2808\n",
      "Nombre d'images de validation : 486\n",
      "Nombre d'images de test : 487\n"
     ]
    }
   ],
   "source": [
    "import torch\n",
    "from torch.utils.data import DataLoader\n",
    "from torchvision import datasets, transforms\n",
    "\n",
    "\n",
    "base_transforms  = transforms.Compose([\n",
    "    transforms.Resize((224, 224)),\n",
    "    transforms.ToTensor(),\n",
    "    transforms.Normalize([0.5,0.5,0.5], [0.5,0.5,0.5])                          \n",
    "])\n",
    "\n",
    "augmentations = [\n",
    "    transforms.RandomHorizontalFlip(p=1.0),\n",
    "    transforms.ColorJitter(brightness=0.2),\n",
    "    transforms.GaussianBlur(kernel_size=(3, 3), sigma=(0.1, 2.0))\n",
    "]\n",
    "\n",
    "to_pil = transforms.ToPILImage()\n",
    "\n",
    "for class_name in os.listdir(train_path):\n",
    "    class_dir = os.path.join(train_path, class_name)\n",
    "    images = os.listdir(class_dir)\n",
    "    \n",
    "    while len(os.listdir(class_dir)) < target_count:\n",
    "        img_name = random.choice(images)\n",
    "        img_path = os.path.join(class_dir, img_name)\n",
    "\n",
    "        with Image.open(img_path).convert(\"RGB\") as img:\n",
    "            aug_img = random.choice(augmentations)(img)\n",
    "            new_name = f\"aug_{len(os.listdir(class_dir))}_{img_name}\"\n",
    "            aug_img.save(os.path.join(class_dir, new_name))\n",
    "\n",
    "\n",
    "train_dataset = datasets.ImageFolder(\"../data/data_splite/train\", transform=base_transforms)\n",
    "val_dataset   = datasets.ImageFolder(\"../data/data_splite/val\", transform=base_transforms)\n",
    "test_dataset  = datasets.ImageFolder(\"../data/data_splite/test\", transform=base_transforms)\n",
    "\n",
    "print(\"Nombre d'images d'entraînement :\", len(train_dataset))\n",
    "print(\"Nombre d'images de validation :\", len(val_dataset))\n",
    "print(\"Nombre d'images de test :\", len(test_dataset))\n",
    "\n",
    "\n"
   ]
  },
  {
   "cell_type": "code",
   "execution_count": null,
   "id": "a7a3c69b",
   "metadata": {},
   "outputs": [
    {
     "name": "stdout",
     "output_type": "stream",
     "text": [
      "Benign : 702\n",
      "Pre-B : 702\n",
      "Pro-B : 702\n",
      "early Pre-B : 702\n"
     ]
    }
   ],
   "source": [
    "from collections import Counter\n",
    "\n",
    "labels = train_dataset.targets  \n",
    "\n",
    "count_per_class = Counter(labels)\n",
    "\n",
    "for idx, cls_name in enumerate(train_dataset.classes):\n",
    "    print(f\"{cls_name} : {count_per_class[idx]}\")"
   ]
  },
  {
   "cell_type": "markdown",
   "id": "7ee724d6",
   "metadata": {},
   "source": [
    "### Sauvegarde des datasets PyTorch pour réutilisation"
   ]
  },
  {
   "cell_type": "code",
   "execution_count": null,
   "id": "3601f2f7",
   "metadata": {},
   "outputs": [],
   "source": [
    "import os\n",
    "os.makedirs(\"../data/Data_Sets\", exist_ok=True)\n",
    "\n",
    "\n",
    "torch.save(train_dataset, \"../data/Data_Sets/train_dataset.pt\")\n",
    "torch.save(val_dataset, \"../data/Data_Sets/val_dataset.pt\")\n",
    "torch.save(test_dataset, \"../data/Data_Sets/test_dataset.pt\")"
   ]
  }
 ],
 "metadata": {
  "kernelspec": {
   "display_name": "Python 3",
   "language": "python",
   "name": "python3"
  },
  "language_info": {
   "codemirror_mode": {
    "name": "ipython",
    "version": 3
   },
   "file_extension": ".py",
   "mimetype": "text/x-python",
   "name": "python",
   "nbconvert_exporter": "python",
   "pygments_lexer": "ipython3",
   "version": "3.11.0"
  }
 },
 "nbformat": 4,
 "nbformat_minor": 5
}
