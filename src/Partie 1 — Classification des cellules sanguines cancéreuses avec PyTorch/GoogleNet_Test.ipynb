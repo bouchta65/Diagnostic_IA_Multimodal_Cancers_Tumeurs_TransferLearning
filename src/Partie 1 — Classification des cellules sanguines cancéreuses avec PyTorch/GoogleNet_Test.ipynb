{
 "cells": [
  {
   "cell_type": "code",
   "execution_count": null,
   "id": "e1eb13d3",
   "metadata": {},
   "outputs": [
    {
     "name": "stdout",
     "output_type": "stream",
     "text": [
      "Predicted class: Benign\n"
     ]
    }
   ],
   "source": [
    "import torch\n",
    "from PIL import Image\n",
    "from torchvision import transforms\n",
    "\n",
    "model_path = r\"../../data/googlenet_fc_complete2.pth\"\n",
    "model = torch.load(model_path, map_location=torch.device(\"cuda\" if torch.cuda.is_available() else \"cpu\"), weights_only=False)\n",
    "model.eval()\n",
    "\n",
    "device = torch.device(\"cuda\" if torch.cuda.is_available() else \"cpu\")\n",
    "model.to(device)\n",
    "\n",
    "test_transform = transforms.Compose([\n",
    "    transforms.Resize((224, 224)),\n",
    "    transforms.ToTensor(),\n",
    "    transforms.Normalize([0.5, 0.5, 0.5], [0.5, 0.5, 0.5])\n",
    "])\n",
    "\n",
    "img_path = r\"B:\\Deep Learning\\DeepMediScan\\data\\data_splite\\val\\Benign\\453.png\"\n",
    "img = Image.open(img_path).convert(\"RGB\")\n",
    "img = test_transform(img).unsqueeze(0).to(device) \n",
    "\n",
    "with torch.no_grad():\n",
    "    outputs = model(img)\n",
    "    predicted_class = outputs.argmax(1).item()\n",
    "\n",
    "class_names = ['Benign', 'Pre-B', 'Pro-B', 'early Pre-B']\n",
    "predicted_class_name = class_names[predicted_class]\n",
    "\n",
    "print(f\"Predicted class: {predicted_class_name}\")"
   ]
  }
 ],
 "metadata": {
  "kernelspec": {
   "display_name": "Python 3",
   "language": "python",
   "name": "python3"
  },
  "language_info": {
   "codemirror_mode": {
    "name": "ipython",
    "version": 3
   },
   "file_extension": ".py",
   "mimetype": "text/x-python",
   "name": "python",
   "nbconvert_exporter": "python",
   "pygments_lexer": "ipython3",
   "version": "3.11.0"
  }
 },
 "nbformat": 4,
 "nbformat_minor": 5
}
