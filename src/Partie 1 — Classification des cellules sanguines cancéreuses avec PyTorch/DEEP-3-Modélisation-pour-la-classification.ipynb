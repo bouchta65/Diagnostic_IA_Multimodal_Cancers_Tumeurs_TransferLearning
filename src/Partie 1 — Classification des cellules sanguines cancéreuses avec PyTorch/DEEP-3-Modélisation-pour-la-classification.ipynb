{
 "cells": [
  {
   "cell_type": "markdown",
   "id": "1b408217",
   "metadata": {},
   "source": [
    "# Chargement du modèle GoogLeNet pré-entraîné"
   ]
  },
  {
   "cell_type": "code",
   "execution_count": 5,
   "id": "9bb9ebc7",
   "metadata": {},
   "outputs": [
    {
     "name": "stderr",
     "output_type": "stream",
     "text": [
      "c:\\Users\\bouch\\AppData\\Local\\Programs\\Python\\Python311\\Lib\\site-packages\\torchvision\\models\\_utils.py:208: UserWarning: The parameter 'pretrained' is deprecated since 0.13 and may be removed in the future, please use 'weights' instead.\n",
      "  warnings.warn(\n",
      "c:\\Users\\bouch\\AppData\\Local\\Programs\\Python\\Python311\\Lib\\site-packages\\torchvision\\models\\_utils.py:223: UserWarning: Arguments other than a weight enum or `None` for 'weights' are deprecated since 0.13 and may be removed in the future. The current behavior is equivalent to passing `weights=GoogLeNet_Weights.IMAGENET1K_V1`. You can also use `weights=GoogLeNet_Weights.DEFAULT` to get the most up-to-date weights.\n",
      "  warnings.warn(msg)\n"
     ]
    }
   ],
   "source": [
    "import torch\n",
    "import torch.nn as nn\n",
    "import torchvision.models as models\n",
    "\n",
    "model = models.googlenet(pretrained=True)\n"
   ]
  },
  {
   "cell_type": "markdown",
   "id": "916e4f34",
   "metadata": {},
   "source": [
    "# Gel des paramètres d'un modèle"
   ]
  },
  {
   "cell_type": "code",
   "execution_count": 6,
   "id": "bfd8651b",
   "metadata": {},
   "outputs": [],
   "source": [
    "for param in model.parameters():\n",
    "    param.requires_grad = False"
   ]
  },
  {
   "cell_type": "markdown",
   "id": "080582b1",
   "metadata": {},
   "source": [
    "### Chargement et préparation des jeux de données avec PyTorch"
   ]
  },
  {
   "cell_type": "code",
   "execution_count": 7,
   "id": "9f2fd97e",
   "metadata": {},
   "outputs": [
    {
     "name": "stdout",
     "output_type": "stream",
     "text": [
      "2808\n",
      "486\n",
      "487\n"
     ]
    }
   ],
   "source": [
    "import torch\n",
    "import torchvision\n",
    "from torch.utils.data import DataLoader\n",
    "\n",
    "train_dataset = torch.load(\"../data/Data_Sets/train_dataset.pt\", weights_only=False)\n",
    "val_dataset   = torch.load(\"../data/Data_Sets/val_dataset.pt\", weights_only=False)\n",
    "test_dataset  = torch.load(\"../data/Data_Sets/test_dataset.pt\", weights_only=False)\n",
    "\n",
    "print(len(train_dataset))\n",
    "print(len(val_dataset))\n",
    "print(len(test_dataset))\n",
    "\n",
    "train_loader = DataLoader(train_dataset, batch_size=32, shuffle=True)\n",
    "val_loader   = DataLoader(val_dataset, batch_size=32, shuffle=False)\n",
    "test_loader  = DataLoader(test_dataset, batch_size=32, shuffle=False)\n"
   ]
  },
  {
   "cell_type": "markdown",
   "id": "fcbdec59",
   "metadata": {},
   "source": [
    "# Remplacement du classificateur par un réseau personnalisé"
   ]
  },
  {
   "cell_type": "code",
   "execution_count": 8,
   "id": "0f86fd27",
   "metadata": {},
   "outputs": [],
   "source": [
    "num_classes = len(train_dataset.classes)\n",
    "\n",
    "model.fc = nn.Sequential(\n",
    "    nn.Linear(1024, 256), \n",
    "    nn.ReLU(),\n",
    "    nn.Dropout(0.5),\n",
    "    nn.Linear(256, num_classes),\n",
    ")\n",
    "\n",
    "# model.fc = nn.Sequential(\n",
    "#     nn.Linear(1024, 512), \n",
    "#     nn.ReLU(),\n",
    "#     nn.Dropout(0.3),\n",
    "#     nn.Linear(512, 256), \n",
    "#     nn.ReLU(),\n",
    "#     nn.Dropout(0.5),\n",
    "#   nn.Linear(256, 128), \n",
    "#     nn.ReLU(),\n",
    "#     nn.Dropout(0.5),\n",
    "#     nn.Linear(128, num_classes)\n",
    "# )"
   ]
  },
  {
   "cell_type": "code",
   "execution_count": 9,
   "id": "b62e8400",
   "metadata": {},
   "outputs": [],
   "source": [
    "# print(model)"
   ]
  },
  {
   "cell_type": "markdown",
   "id": "90a3fc4c",
   "metadata": {},
   "source": [
    "# Configuration de l'entraînement du modèle"
   ]
  },
  {
   "cell_type": "code",
   "execution_count": 10,
   "id": "e22cb0a1",
   "metadata": {},
   "outputs": [
    {
     "name": "stdout",
     "output_type": "stream",
     "text": [
      "cuda\n"
     ]
    }
   ],
   "source": [
    "# Determiner le learning rate et loss function et aussi l’optomizer pour le modele\n",
    "import torch.optim as optim\n",
    "\n",
    "device = torch.device(\"cuda\" if torch.cuda.is_available() else \"cpu\")\n",
    "model.to(device)\n",
    "print(device)\n",
    "learning_rate  = 0.001   \n",
    "loss_function = nn.CrossEntropyLoss()\n",
    "\n",
    "optimizer = optim.Adam(model.fc.parameters(), lr=learning_rate)\n",
    "\n"
   ]
  },
  {
   "cell_type": "markdown",
   "id": "adf02b85",
   "metadata": {},
   "source": [
    "# Entraînement et évaluation du modèle"
   ]
  },
  {
   "cell_type": "code",
   "execution_count": 11,
   "id": "0d2978bd",
   "metadata": {},
   "outputs": [
    {
     "name": "stdout",
     "output_type": "stream",
     "text": [
      "Epoch 1/5 - Loss: 0.5323, Accuracy: 81.70%\n",
      "Epoch 2/5 - Loss: 0.2246, Accuracy: 92.81%\n",
      "Epoch 3/5 - Loss: 0.1636, Accuracy: 94.62%\n",
      "Epoch 4/5 - Loss: 0.1438, Accuracy: 95.23%\n",
      "Epoch 5/5 - Loss: 0.1076, Accuracy: 96.19%\n"
     ]
    }
   ],
   "source": [
    "num_epochs = 5\n",
    "for epoch in range(num_epochs):\n",
    "    model.train() \n",
    "    total_loss = 0.0         \n",
    "    total_correct = 0         \n",
    "    total_samples = 0 \n",
    "\n",
    "    for images, labels in train_loader:\n",
    "        images, labels = images.to(device), labels.to(device)\n",
    "        optimizer.zero_grad()\n",
    "        outputs = model(images)\n",
    "        loss = loss_function(outputs, labels)\n",
    "        loss.backward()\n",
    "        optimizer.step()\n",
    "\n",
    "        total_loss += loss.item()\n",
    "        total_correct += (outputs.argmax(1) == labels).sum().item()\n",
    "        total_samples += labels.size(0)\n",
    "        \n",
    "    avg_loss = total_loss / len(train_loader)\n",
    "    accuracy = 100 * total_correct / total_samples\n",
    "    print(f\"Epoch {epoch+1}/{num_epochs} - Loss: {avg_loss:.4f}, Accuracy: {accuracy:.2f}%\")\n"
   ]
  },
  {
   "cell_type": "markdown",
   "id": "9437928a",
   "metadata": {},
   "source": [
    "### Évaluation du modèle : calcul de la perte et de la précision"
   ]
  },
  {
   "cell_type": "code",
   "execution_count": 14,
   "id": "fd07376e",
   "metadata": {},
   "outputs": [
    {
     "name": "stdout",
     "output_type": "stream",
     "text": [
      "Validation - Loss: 0.0577, Accuracy: 98.15%\n",
      "Test - Loss: 0.0688, Accuracy: 97.54%\n"
     ]
    }
   ],
   "source": [
    "# Évaluation et test\n",
    "def evaluate(loader):\n",
    "    model.eval()\n",
    "    correct, total, loss_total = 0, 0, 0.0\n",
    "    with torch.no_grad():\n",
    "        for images, labels in loader:\n",
    "            images, labels = images.to(device), labels.to(device)\n",
    "            outputs = model(images)\n",
    "            loss_total += loss_function(outputs, labels).item()\n",
    "            correct += (outputs.argmax(1) == labels).sum().item()\n",
    "            total += labels.size(0)\n",
    "    return loss_total / len(loader), 100 * correct / total\n",
    "\n",
    "val_loss, val_acc = evaluate(val_loader)\n",
    "print(f\"Validation - Loss: {val_loss:.4f}, Accuracy: {val_acc:.2f}%\")\n",
    "\n",
    "test_loss, test_acc = evaluate(test_loader)\n",
    "print(f\"Test - Loss: {test_loss:.4f}, Accuracy: {test_acc:.2f}%\")\n"
   ]
  },
  {
   "cell_type": "markdown",
   "id": "a22d5806",
   "metadata": {},
   "source": [
    "### Sauvegarde du modèle entraîné avec PyTorch"
   ]
  },
  {
   "cell_type": "code",
   "execution_count": null,
   "id": "d4f041a6",
   "metadata": {},
   "outputs": [],
   "source": [
    "torch.save(model, \"../data\\googlenet_fc_complete.pth\")"
   ]
  }
 ],
 "metadata": {
  "kernelspec": {
   "display_name": "Python 3",
   "language": "python",
   "name": "python3"
  },
  "language_info": {
   "codemirror_mode": {
    "name": "ipython",
    "version": 3
   },
   "file_extension": ".py",
   "mimetype": "text/x-python",
   "name": "python",
   "nbconvert_exporter": "python",
   "pygments_lexer": "ipython3",
   "version": "3.11.0"
  }
 },
 "nbformat": 4,
 "nbformat_minor": 5
}
