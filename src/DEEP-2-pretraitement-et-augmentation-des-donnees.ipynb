{
 "cells": [
  {
   "cell_type": "markdown",
   "id": "b49f9061",
   "metadata": {},
   "source": [
    "# Prétraitement et augmentation des données"
   ]
  },
  {
   "cell_type": "markdown",
   "id": "4e5b4075",
   "metadata": {},
   "source": [
    "### Division en ensembles Train/Validation/Test"
   ]
  },
  {
   "cell_type": "code",
   "execution_count": 40,
   "id": "b30a9e7b",
   "metadata": {},
   "outputs": [],
   "source": [
    "import joblib\n",
    "import numpy as np\n",
    "from sklearn.preprocessing import LabelEncoder\n",
    "\n",
    "images, labels = joblib.load(\"../data/processed_data.pkl\")\n",
    "\n",
    "target_size = (224, 224)\n",
    "\n",
    "x_resized = []\n",
    "for img in images:\n",
    "    img_pil = Image.fromarray(img)\n",
    "    img_resized = img_pil.resize(target_size)\n",
    "    x_resized.append(np.array(img_resized))\n",
    "\n",
    "x = np.array(x_resized)\n",
    "y = np.array(labels)\n",
    "le = LabelEncoder()\n",
    "y_enc = le.fit_transform(y)  "
   ]
  },
  {
   "cell_type": "markdown",
   "id": "b1502f2b",
   "metadata": {},
   "source": [
    "### Encodage des étiquettes catégorielles avec LabelEncoder"
   ]
  },
  {
   "cell_type": "code",
   "execution_count": 43,
   "id": "1c4d613b",
   "metadata": {},
   "outputs": [
    {
     "name": "stdout",
     "output_type": "stream",
     "text": [
      "train: 2269 images\n",
      "val: 486 images\n",
      "test: 487 images\n"
     ]
    }
   ],
   "source": [
    "import os\n",
    "import random\n",
    "\n",
    "train_split = 0.7\n",
    "val_split = 0.15\n",
    "test_split = 0.15\n",
    "\n",
    "for subset in [\"train\", \"val\", \"test\"]:\n",
    "    os.makedirs(os.path.join(\"../data/data_splite\", subset), exist_ok=True)\n",
    "\n",
    "classes = np.unique(y)\n",
    "for cls in classes:\n",
    "    for subset in [\"train\", \"val\", \"test\"]:\n",
    "        os.makedirs(os.path.join(\"../data/data_splite\", subset, cls), exist_ok=True)\n",
    "\n",
    "data = list(range(len(x)))\n",
    "random.shuffle(data)\n",
    "\n",
    "n_total = len(data)\n",
    "n_train = int(0.7 * n_total)\n",
    "n_val = int(0.15 * n_total)\n",
    "n_test = n_total - n_train - n_val\n",
    "\n",
    "splits = {\n",
    "    \"train\": data[:n_train],\n",
    "    \"val\": data[n_train:n_train + n_val],\n",
    "    \"test\": data[n_train + n_val:]\n",
    "}\n",
    "\n",
    "image_count = {\"train\": 0, \"val\": 0, \"test\": 0}\n",
    "\n",
    "for subset_name, subset_indices in splits.items():\n",
    "    for idx_in_subset, idx in enumerate(subset_indices):\n",
    "        img_array = x[idx]\n",
    "        label = y[idx]\n",
    "        img = Image.fromarray(img_array)\n",
    "        save_path = os.path.join(\"../data/data_splite\", subset_name, label)\n",
    "        img.save(os.path.join(save_path, f\"{idx_in_subset}.png\"))\n",
    "        image_count[subset_name] += 1\n",
    "        \n",
    "for subset_name, count in image_count.items():\n",
    "    print(f\"{subset_name}: {count} images\")"
   ]
  }
 ],
 "metadata": {
  "kernelspec": {
   "display_name": "Python 3",
   "language": "python",
   "name": "python3"
  },
  "language_info": {
   "codemirror_mode": {
    "name": "ipython",
    "version": 3
   },
   "file_extension": ".py",
   "mimetype": "text/x-python",
   "name": "python",
   "nbconvert_exporter": "python",
   "pygments_lexer": "ipython3",
   "version": "3.11.0"
  }
 },
 "nbformat": 4,
 "nbformat_minor": 5
}
