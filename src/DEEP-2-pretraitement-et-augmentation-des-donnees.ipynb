{
 "cells": [
  {
   "cell_type": "markdown",
   "id": "b49f9061",
   "metadata": {},
   "source": [
    "# Prétraitement et augmentation des données"
   ]
  },
  {
   "cell_type": "markdown",
   "id": "4e5b4075",
   "metadata": {},
   "source": [
    "### Division en ensembles Train/Validation/Test"
   ]
  },
  {
   "cell_type": "code",
   "execution_count": 44,
   "id": "b30a9e7b",
   "metadata": {},
   "outputs": [],
   "source": [
    "import joblib\n",
    "import numpy as np\n",
    "from sklearn.preprocessing import LabelEncoder\n",
    "\n",
    "images, labels = joblib.load(\"../data/processed_data.pkl\")\n",
    "\n",
    "target_size = (224, 224)\n",
    "\n",
    "x_resized = []\n",
    "for img in images:\n",
    "    img_pil = Image.fromarray(img)\n",
    "    img_resized = img_pil.resize(target_size)\n",
    "    x_resized.append(np.array(img_resized))\n",
    "\n",
    "x = np.array(x_resized)\n",
    "y = np.array(labels)\n",
    "le = LabelEncoder()\n",
    "y_enc = le.fit_transform(y)  "
   ]
  }
 ],
 "metadata": {
  "kernelspec": {
   "display_name": "Python 3",
   "language": "python",
   "name": "python3"
  },
  "language_info": {
   "codemirror_mode": {
    "name": "ipython",
    "version": 3
   },
   "file_extension": ".py",
   "mimetype": "text/x-python",
   "name": "python",
   "nbconvert_exporter": "python",
   "pygments_lexer": "ipython3",
   "version": "3.11.0"
  }
 },
 "nbformat": 4,
 "nbformat_minor": 5
}
