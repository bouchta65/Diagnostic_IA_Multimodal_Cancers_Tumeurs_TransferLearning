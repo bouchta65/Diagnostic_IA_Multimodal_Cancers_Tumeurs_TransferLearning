{
 "cells": [
  {
   "cell_type": "markdown",
   "id": "4e1cefd3",
   "metadata": {},
   "source": [
    "# Chargement du modèle GoogLeNet pré-entraîné"
   ]
  },
  {
   "cell_type": "code",
   "execution_count": null,
   "id": "9bb9ebc7",
   "metadata": {},
   "outputs": [],
   "source": [
    "import torch\n",
    "import torch.nn as nn\n",
    "import torchvision.models as models\n",
    "\n",
    "model = models.googlenet(pretrained=True)"
   ]
  },
  {
   "cell_type": "markdown",
   "id": "999e38cc",
   "metadata": {},
   "source": [
    "# Gel des paramètres d'un modèle"
   ]
  },
  {
   "cell_type": "code",
   "execution_count": 6,
   "id": "bfd8651b",
   "metadata": {},
   "outputs": [],
   "source": [
    "for param in model.parameters():\n",
    "    param.requires_grad = False"
   ]
  },
  {
   "cell_type": "markdown",
   "id": "ed2695dc",
   "metadata": {},
   "source": [
    "### Chargement et préparation des jeux de données avec PyTorch"
   ]
  },
  {
   "cell_type": "code",
   "execution_count": null,
   "id": "a7b0e681",
   "metadata": {},
   "outputs": [],
   "source": [
    "import torch\n",
    "import torchvision\n",
    "from torch.utils.data import DataLoader\n",
    "\n",
    "train_dataset = torch.load(\"../data/Data_Loaders/train_dataset.pt\", weights_only=False)\n",
    "val_dataset   = torch.load(\"../data/Data_Loaders/val_dataset.pt\", weights_only=False)\n",
    "test_dataset  = torch.load(\"../data/Data_Loaders/test_dataset.pt\", weights_only=False)\n",
    "\n",
    "print(len(train_dataset))\n",
    "print(len(val_dataset))\n",
    "print(len(test_dataset))\n",
    "\n",
    "train_loader = DataLoader(train_dataset, batch_size=32, shuffle=True)\n",
    "val_loader   = DataLoader(val_dataset, batch_size=32, shuffle=False)\n",
    "test_loader  = DataLoader(test_dataset, batch_size=32, shuffle=False)\n"
   ]
  },
  {
   "cell_type": "markdown",
   "id": "803c9c62",
   "metadata": {},
   "source": [
    "# Remplacement du classificateur par un réseau personnalisé"
   ]
  },
  {
   "cell_type": "code",
   "execution_count": null,
   "id": "0f86fd27",
   "metadata": {},
   "outputs": [],
   "source": [
    "num_classes = 4\n",
    "# print(len(train_dataset.classes))\n",
    "\n",
    "model.fc = nn.Sequential(\n",
    "    nn.Linear(1024, 512),#nombre de fetures,nomre de layers \n",
    "    nn.ReLU(),\n",
    "    nn.Dropout(0.5),\n",
    "    nn.Linear(256, num_classes),\n",
    ")"
   ]
  },
  {
   "cell_type": "code",
   "execution_count": 10,
   "id": "b62e8400",
   "metadata": {},
   "outputs": [],
   "source": [
    "# print(model)"
   ]
  },
  {
   "cell_type": "markdown",
   "id": "35274754",
   "metadata": {},
   "source": [
    "# Configuration de l'entraînement du modèle"
   ]
  },
  {
   "cell_type": "code",
   "execution_count": 11,
   "id": "e22cb0a1",
   "metadata": {},
   "outputs": [],
   "source": [
    "# Determiner le learning rate et loss function et aussi l’optomizer pour le modele\n",
    "import torch.optim as optim\n",
    "\n",
    "device = torch.device(\"cuda\" if torch.cuda.is_available() else \"cpu\")\n",
    "model.to(device)\n",
    "# print(device)\n",
    "learning_rate  = 0.001   \n",
    "loss_function = nn.CrossEntropyLoss()\n",
    "\n",
    "optimizer = optim.Adam(model.fc.parameters(), lr=learning_rate)\n",
    "\n"
   ]
  },
  {
   "cell_type": "markdown",
   "id": "8e6fe0c2",
   "metadata": {},
   "source": [
    "# Entraînement et évaluation du modèle"
   ]
  },
  {
   "cell_type": "code",
   "execution_count": 17,
   "id": "5327d325",
   "metadata": {},
   "outputs": [
    {
     "name": "stderr",
     "output_type": "stream",
     "text": [
      "<>:105: SyntaxWarning: invalid escape sequence '\\g'\n",
      "<>:105: SyntaxWarning: invalid escape sequence '\\g'\n",
      "C:\\Users\\salma\\AppData\\Local\\Temp\\ipykernel_12812\\858504842.py:105: SyntaxWarning: invalid escape sequence '\\g'\n",
      "  torch.save(model.state_dict(), \"../data\\googlenet_finetuned.pth\")\n",
      "c:\\Users\\salma\\AppData\\Local\\Programs\\Python\\Python313\\Lib\\site-packages\\torchvision\\models\\_utils.py:208: UserWarning: The parameter 'pretrained' is deprecated since 0.13 and may be removed in the future, please use 'weights' instead.\n",
      "  warnings.warn(\n",
      "c:\\Users\\salma\\AppData\\Local\\Programs\\Python\\Python313\\Lib\\site-packages\\torchvision\\models\\_utils.py:223: UserWarning: Arguments other than a weight enum or `None` for 'weights' are deprecated since 0.13 and may be removed in the future. The current behavior is equivalent to passing `weights=GoogLeNet_Weights.IMAGENET1K_V1`. You can also use `weights=GoogLeNet_Weights.DEFAULT` to get the most up-to-date weights.\n",
      "  warnings.warn(msg)\n"
     ]
    },
    {
     "name": "stdout",
     "output_type": "stream",
     "text": [
      "Epoch 1/10 - Loss: 0.4583, Accuracy: 83.30%\n",
      "Epoch 2/10 - Loss: 0.1815, Accuracy: 93.47%\n",
      "Epoch 3/10 - Loss: 0.1648, Accuracy: 94.29%\n",
      "Epoch 4/10 - Loss: 0.1593, Accuracy: 94.02%\n",
      "Epoch 5/10 - Loss: 0.1273, Accuracy: 95.45%\n",
      "Epoch 6/10 - Loss: 0.1322, Accuracy: 95.02%\n",
      "Epoch 7/10 - Loss: 0.1046, Accuracy: 96.00%\n",
      "Epoch 8/10 - Loss: 0.1191, Accuracy: 95.58%\n",
      "Epoch 9/10 - Loss: 0.1208, Accuracy: 95.52%\n",
      "Epoch 10/10 - Loss: 0.1038, Accuracy: 96.18%\n",
      "\n",
      "✅ Résultats finaux :\n",
      "Train      : Loss = 0.0389, Accuracy = 98.64%\n",
      "Validation : Loss = 0.0294, Accuracy = 99.19%\n",
      "Test       : Loss = 0.0224, Accuracy = 99.10%\n",
      "✅ Modèle sauvegardé !\n"
     ]
    }
   ],
   "source": [
    "import torch\n",
    "import torch.nn as nn\n",
    "import torch.optim as optim\n",
    "from torchvision import models\n",
    "\n",
    "device = torch.device(\"cuda\" if torch.cuda.is_available() else \"cpu\")\n",
    "\n",
    "\n",
    "model.to(device)\n",
    "\n",
    "\n",
    "# Scheduler pour réduire le LR si la loss stagne (sans verbose)\n",
    "scheduler = optim.lr_scheduler.ReduceLROnPlateau(optimizer, mode='min', factor=0.5, patience=2)\n",
    "# traine model\n",
    "num_epochs = 10\n",
    "\n",
    "for epoch in range(num_epochs):\n",
    "    model.train()\n",
    "    running_loss = 0.0\n",
    "    correct = 0\n",
    "    total = 0\n",
    "\n",
    "    for images, labels in train_loader:\n",
    "        images, labels = images.to(device), labels.to(device)\n",
    "        optimizer.zero_grad()\n",
    "        outputs = model(images)\n",
    "        loss = loss_function(outputs, labels)\n",
    "        loss.backward()\n",
    "        optimizer.step()\n",
    "\n",
    "        running_loss += loss.item()\n",
    "        _, predicted = torch.max(outputs, 1)\n",
    "        correct += (predicted == labels).sum().item()\n",
    "        total += labels.size(0)\n",
    "\n",
    "    epoch_loss = running_loss / len(train_loader)\n",
    "    epoch_acc = 100 * correct / total\n",
    "    print(f\"Epoch {epoch+1}/{num_epochs} - Loss: {epoch_loss:.4f}, Accuracy: {epoch_acc:.2f}%\")\n",
    "\n",
    "    scheduler.step(epoch_loss)\n",
    "\n",
    "#Evaluation model\n",
    "def evaluate(model, loader):\n",
    "    model.eval()\n",
    "    total_loss = 0.0\n",
    "    correct = 0\n",
    "    total = 0\n",
    "    with torch.no_grad():\n",
    "        for images, labels in loader:\n",
    "            images, labels = images.to(device), labels.to(device)\n",
    "            outputs = model(images)\n",
    "            loss = loss_function(outputs, labels)\n",
    "            total_loss += loss.item()\n",
    "            _, predicted = torch.max(outputs, 1)\n",
    "            correct += (predicted == labels).sum().item()\n",
    "            total += labels.size(0)\n",
    "    return total_loss / len(loader), 100 * correct / total\n",
    "\n",
    "train_loss, train_acc = evaluate(model, train_loader)\n",
    "val_loss, val_acc     = evaluate(model, val_loader)\n",
    "test_loss, test_acc   = evaluate(model, test_loader)\n",
    "\n",
    "print(f\"Train      : Loss = {train_loss:.4f}, Accuracy = {train_acc:.2f}%\")\n",
    "print(f\"Validation : Loss = {val_loss:.4f}, Accuracy = {val_acc:.2f}%\")\n",
    "print(f\"Test       : Loss = {test_loss:.4f}, Accuracy = {test_acc:.2f}%\")\n",
    "\n"
   ]
  }
 ],
 "metadata": {
  "kernelspec": {
   "display_name": "Python 3",
   "language": "python",
   "name": "python3"
  },
  "language_info": {
   "codemirror_mode": {
    "name": "ipython",
    "version": 3
   },
   "file_extension": ".py",
   "mimetype": "text/x-python",
   "name": "python",
   "nbconvert_exporter": "python",
   "pygments_lexer": "ipython3",
   "version": "3.13.7"
  }
 },
 "nbformat": 4,
 "nbformat_minor": 5
}
