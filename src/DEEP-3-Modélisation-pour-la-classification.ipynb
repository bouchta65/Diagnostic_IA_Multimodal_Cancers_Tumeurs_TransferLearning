{
 "cells": [
  {
   "cell_type": "markdown",
   "id": "1b408217",
   "metadata": {},
   "source": [
    "# Chargement du modèle GoogLeNet pré-entraîné\n",
    "\n",
    " charge le modèle **GoogLeNet** pré-entraîné sur le dataset ImageNet, en utilisant la bibliothèque PyTorch.\n",
    "\n",
    "### Imports nécessaires\n",
    "\n",
    "- **`torch`** : Bibliothèque principale de PyTorch pour le deep learning\n",
    "- **`torch.nn`** : Module contenant les composants pour construire des réseaux de neurones\n",
    "- **`torchvision.models`** : Module contenant des architectures de modèles pré-entraînés"
   ]
  },
  {
   "cell_type": "code",
   "execution_count": 8,
   "id": "9bb9ebc7",
   "metadata": {},
   "outputs": [],
   "source": [
    "import torch\n",
    "import torch.nn as nn\n",
    "import torchvision.models as models\n",
    "\n",
    "model = models.googlenet(pretrained=True)\n",
    "\n"
   ]
  }
 ],
 "metadata": {
  "kernelspec": {
   "display_name": "Python 3",
   "language": "python",
   "name": "python3"
  },
  "language_info": {
   "codemirror_mode": {
    "name": "ipython",
    "version": 3
   },
   "file_extension": ".py",
   "mimetype": "text/x-python",
   "name": "python",
   "nbconvert_exporter": "python",
   "pygments_lexer": "ipython3",
   "version": "3.13.7"
  }
 },
 "nbformat": 4,
 "nbformat_minor": 5
}
