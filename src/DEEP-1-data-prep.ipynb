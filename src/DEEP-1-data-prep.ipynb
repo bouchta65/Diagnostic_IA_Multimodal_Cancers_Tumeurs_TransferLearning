{
 "cells": [
  {
   "cell_type": "markdown",
   "id": "1e7ed823",
   "metadata": {},
   "source": [
    "## Importer les bibliothèques nécessaires.\n"
   ]
  },
  {
   "cell_type": "code",
   "execution_count": null,
   "id": "93fdd946",
   "metadata": {},
   "outputs": [],
   "source": [
    "import os\n",
    "import shutil\n",
    "from PIL import Image\n",
    "import matplotlib.pyplot as plt\n",
    "import seaborn as sns\n",
    "import numpy as np"
   ]
  }
 ],
 "metadata": {
  "language_info": {
   "name": "python"
  }
 },
 "nbformat": 4,
 "nbformat_minor": 5
}
