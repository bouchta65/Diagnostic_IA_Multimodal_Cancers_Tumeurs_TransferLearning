{
 "cells": [
  {
   "cell_type": "markdown",
   "id": "1e7ed823",
   "metadata": {},
   "source": [
    "## Importer les bibliothèques nécessaires.\n"
   ]
  },
  {
   "cell_type": "code",
   "execution_count": 2,
   "id": "93fdd946",
   "metadata": {},
   "outputs": [],
   "source": [
    "import os\n",
    "import shutil\n",
    "from PIL import Image\n",
    "import matplotlib.pyplot as plt\n",
    "import seaborn as sns\n",
    "import numpy as np\n",
    "import cv2"
   ]
  },
  {
   "cell_type": "markdown",
   "id": "d47d63c2",
   "metadata": {},
   "source": [
    "\n",
    "## Charger les images du dataset et vérifier leurs extensions (jpeg, jpg, bmp, png). Supprimer celles qui ne correspondent pas."
   ]
  },
  {
   "cell_type": "code",
   "execution_count": 4,
   "id": "067654c5",
   "metadata": {},
   "outputs": [],
   "source": [
    "dataset_path = \"data\" \n",
    "exts = (\".jpg\", \".jpeg\", \".png\", \".bmp\")\n",
    "\n",
    "for root, _, files in os.walk(dataset_path):\n",
    "    for file in files:\n",
    "        file_path = os.path.join(root, file)\n",
    "        if not file.lower().endswith(exts):\n",
    "            os.remove(file_path)\n",
    "            continue\n",
    "\n",
    "        try:\n",
    "            img = Image.open(file_path)\n",
    "            img.verify()\n",
    "        except Exception as e:\n",
    "            os.remove(file_path)\n"
   ]
  },
  {
   "cell_type": "markdown",
   "id": "a0fceaeb",
   "metadata": {},
   "source": [
    "## Explorer les classes du dataset (les noms des dossiers représentent les classes)."
   ]
  },
  {
   "cell_type": "code",
   "execution_count": 19,
   "id": "875fc821",
   "metadata": {},
   "outputs": [
    {
     "name": "stdout",
     "output_type": "stream",
     "text": [
      "Nombre de classes trouvées : 2\n",
      "Classes : ['Blood_Cells_Cancer', 'Data-Brain']\n"
     ]
    }
   ],
   "source": [
    "\n",
    "folder = r\"C:\\Users\\salma\\OneDrive\\Desktop\\Breaf4\\data\"\n",
    "\n",
    "classes = [d for d in os.listdir(folder) if os.path.isdir(os.path.join(dataset_path, d))]\n",
    "\n",
    "print(f\"Nombre de classes trouvées : {len(classes)}\")\n",
    "print(\"Classes :\", classes)\n",
    "\n"
   ]
  }
 ],
 "metadata": {
  "kernelspec": {
   "display_name": "Python 3",
   "language": "python",
   "name": "python3"
  },
  "language_info": {
   "codemirror_mode": {
    "name": "ipython",
    "version": 3
   },
   "file_extension": ".py",
   "mimetype": "text/x-python",
   "name": "python",
   "nbconvert_exporter": "python",
   "pygments_lexer": "ipython3",
   "version": "3.13.7"
  }
 },
 "nbformat": 4,
 "nbformat_minor": 5
}
